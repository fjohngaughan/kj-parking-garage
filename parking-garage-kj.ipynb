{
 "cells": [
  {
   "cell_type": "markdown",
   "metadata": {},
   "source": [
    "Your parking garage class should have the following methods:\n",
    "- takeTicket\n",
    "    - This should decrease the amount of tickets available by 1\n",
    "    - This should decrease the amount of parkingSpaces available by 1\n",
    "- payForParking\n",
    "    - Display an input that waits for an amount from the user and store it in a variable\n",
    "    - If the payment variable is not empty then (meaning the ticket has been paid) -> display a message to the user that their ticket has been paid and they have 15mins to leave\n",
    "    - This should update the \"currentTicket\" dictionary key \"paid\" to True\n",
    "- leaveGarage\n",
    "    - If the ticket has been paid, display a message of \"Thank You, have a nice day\"\n",
    "    - If the ticket has not been paid, display an input prompt for payment\n",
    "    - Once paid, display message \"Thank you, have a nice day!\"\n",
    "        - Update parkingSpaces list to increase by 1 (meaning add to the parkingSpaces list)\n",
    "        - Update tickets list to increase by 1 (meaning add to the tickets list)\n",
    "\n",
    "You will need a few attributes as well:\n",
    "- tickets -> list\n",
    "- parkingSpaces -> list\n",
    "- currentTicket -> dictionary\n",
    "\n",
    "NOTE: Use VSCode for this project starting with the following files below. Also, each person in the group should list the portion of the project they were responsible for inside of the python file and inside the README file.\n",
    "\n",
    "By the end of this project each group/student should be able to:\n",
    "- Explain and/or demostrate using Git and Github for collaboration\n",
    "- Explain and/or demostrate creating classes\n",
    "- Explain and/or demostrate creating class methods\n",
    "- Explain and/or demostrate class instantiation\n",
    "\n",
    "\n",
    "When the project is completed, commit the final changes, sync all pull requests, and each member should submit their respective GitHub links(though the code in each should be the same)\\\n",
    "\n",
    "\n",
    "What's the difference between the cart and the parking spot? \n",
    "\n",
    "Parking Garage\n",
    "- Starts with ### limited number of spaces, which are filled and emptied ### \n",
    "- Get ticket --> ### fills a corresponding spot (ticket 1 -> parking spot 1)\n",
    "- Pay\n",
    "    - Input ticket number --> pay \n",
    "- Leave\n",
    "    - Input ticket number --> Did you pay? \n",
    "        - Yes --> go ahead\n",
    "        - No --> please pay\n",
    "        \n",
    "Shopping cart\n",
    "-Starts empty, no limit.\n",
    "-Add item --> adds item to cart\n",
    "-"
   ]
  },
  {
   "cell_type": "code",
   "execution_count": 2,
   "metadata": {},
   "outputs": [
    {
     "ename": "NameError",
     "evalue": "name 'test' is not defined",
     "output_type": "error",
     "traceback": [
      "\u001b[0;31m---------------------------------------------------------------------------\u001b[0m",
      "\u001b[0;31mNameError\u001b[0m                                 Traceback (most recent call last)",
      "\u001b[0;32m<ipython-input-2-4e1243bd22c6>\u001b[0m in \u001b[0;36m<module>\u001b[0;34m\u001b[0m\n\u001b[0;32m----> 1\u001b[0;31m \u001b[0mtest\u001b[0m\u001b[0;34m\u001b[0m\u001b[0;34m\u001b[0m\u001b[0m\n\u001b[0m",
      "\u001b[0;31mNameError\u001b[0m: name 'test' is not defined"
     ]
    }
   ],
   "source": [
    "parking_spots = {1:{ticket_1:{} taken, 2:, 3:, 4:}\n",
    "\n",
    "\n",
    "class Driver:\n",
    "    \n",
    "    def __init__(self, tickets, parking_spaces):\n",
    "        self.tickets = tickets\n",
    "        self.parking_spaces = parking_spaces\n",
    "        \n",
    "    def show(self):\n",
    "        return f'Welcome to SuperLot! These are the spaces currently available: {self.tickets}'\n",
    "\n",
    "class ParkingGarage:\n",
    "    \n",
    "    def show:\n",
    "        pass\n",
    "    \n",
    "    def takeTicket:\n",
    "        pass\n",
    "    \n",
    "    def payForParking(self, price):\n",
    "        self.price = price\n",
    "        pass\n",
    "        \n",
    "    def leaveGarage:\n",
    "        pass\n",
    "        \n",
    "    def run(self):\n",
    "        "
   ]
  }
 ],
 "metadata": {
  "kernelspec": {
   "display_name": "Python 3",
   "language": "python",
   "name": "python3"
  },
  "language_info": {
   "codemirror_mode": {
    "name": "ipython",
    "version": 3
   },
   "file_extension": ".py",
   "mimetype": "text/x-python",
   "name": "python",
   "nbconvert_exporter": "python",
   "pygments_lexer": "ipython3",
   "version": "3.8.5"
  }
 },
 "nbformat": 4,
 "nbformat_minor": 4
}

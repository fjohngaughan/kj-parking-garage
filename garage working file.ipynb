{
 "cells": [
  {
   "cell_type": "code",
   "execution_count": 70,
   "metadata": {},
   "outputs": [],
   "source": [
    "# cart and item\n",
    "#items have name, price\n",
    "#cart has dict of items each dict holding item and count\n",
    "#cart has a total price\n",
    "#another class run\n",
    "from IPython.display import clear_output"
   ]
  },
  {
   "cell_type": "code",
   "execution_count": 107,
   "metadata": {},
   "outputs": [],
   "source": [
    "class Tickets:\n",
    "    def __init__(self, n, price):\n",
    "        self.number - number\n",
    "        self.price = price\n",
    "    \n",
    "    #show our ticketss info\n",
    "    def show(self):\n",
    "        return f'Your ticket # is {self.number}, you paid ${self.price}'\n",
    "\n",
    "class ParkingSpot:\n",
    "    def __init__(self, notavailable, available):\n",
    "        #dict structure: number as key, value as another dict -> inner dict keys tickets and quant\n",
    "        self.parking_spot = {}\n",
    "        self.notavailable = notavailable\n",
    "        self.available = available\n",
    "    \n",
    "    #takes a parkingspot and ticket as input, puts the ticket in the parking spot\n",
    "    def add(self, tickets):\n",
    "        if ticket.number in self.parking_spot:\n",
    "            self.parking_spot[ticket.number]['quant'] += 1\n",
    "            self.total += tickets.price\n",
    "        else:\n",
    "            self.parking_spot[tickets.number] = {'tickets': tickets, 'quant': 1}\n",
    "            self.total += tickets.price\n",
    "        return f'{tickets.number} has been added to your Parking Spot.'\n",
    "    \n",
    "    #show whats in our Parking Spot\n",
    "    def show(self):\n",
    "        if not self.parking_spot:\n",
    "            print('Your Parking Spot is empty.')\n",
    "        else:\n",
    "            n = 1\n",
    "            for v in self.parking_spot.values():\n",
    "                print(f\"{n}: {v['quant']} {v['tickets'].number} @ ${v['tickets'].price} ea.\")\n",
    "                n += 1\n",
    "            print('===')\n",
    "            print(f'Your total is: ${self.total}')\n",
    "    \n",
    "    #inputs are the number of an tickets and the Parking Spot\n",
    "    #outputs probs a string saying that we removed something or that it wasnt in our Parking Spot\n",
    "    #remove an tickets from our Parking Spot if it exists in our Parking Spot\n",
    "    def remove(self, number):\n",
    "        number = number.title()\n",
    "        if number in self.parking_spot:\n",
    "            if self.parking_spot[number]['quant'] > 1:\n",
    "                self.parking_spot[number]['quant'] -= 1\n",
    "                self.total -= self.parking_spot[number]['tickets'].price\n",
    "            else:\n",
    "                self.total -= self.parking_spot[number]['tickets'].price\n",
    "                del self.parking_spot[number]\n",
    "            return f'{number} was removed from your Parking Spot.'\n",
    "        else:\n",
    "            return f'{number} was not in your Parking Spot.'\n",
    "        \n",
    "class Main:\n",
    "    def run(self):\n",
    "        myParking Spot = Parking Spot()\n",
    "        while True:\n",
    "            myParking Spot.show()\n",
    "            choice = input('Welcome to my shopping Parking Spot. What would you like to do? Options: add, remove, checkout.').lower()\n",
    "            if choice == 'checkout':\n",
    "                clear_output()\n",
    "                print('Here are all the ticketss in your Parking Spot:')\n",
    "                myParking Spot.show()\n",
    "                print('Thank you have a nice day!')\n",
    "                break\n",
    "                #show whats in Parking Spot and a nice checkout screen (this is like quitting)\n",
    "\n",
    "            elif choice == 'add':\n",
    "                i_number = input(\"What is the tickets's number? \").title()\n",
    "                i_price = float(input(\"What is the tickets's price? \"))\n",
    "                i = tickets(i_number, i_price)\n",
    "                print(myParking Spot.add(i))\n",
    "\n",
    "                #ask about what they're trying to add, then add it\n",
    "\n",
    "            elif choice == 'remove' and myParking Spot.parking_spot:\n",
    "                ir = input(\"What tickets would you like to remove? \")\n",
    "                print(myParking Spot.remove(ir))\n",
    "                #ask about what they're removing, then remove it\n",
    "            \n",
    "            else:\n",
    "                print('Bad input.')\n",
    "            clear_output()\n",
    "        "
   ]
  },
  {
   "cell_type": "code",
   "execution_count": 108,
   "metadata": {
    "scrolled": true
   },
   "outputs": [
    {
     "name": "stdout",
     "output_type": "stream",
     "text": [
      "Here are all the items in your cart:\n",
      "1: 2 Fennec Fox @ $3999.99 ea.\n",
      "2: 1 Flamingo @ $12.99 ea.\n",
      "===\n",
      "Your total is: $8012.969999999999\n",
      "Thank you have a nice day!\n"
     ]
    }
   ],
   "source": [
    "testing = Main()\n",
    "testing.run()"
   ]
  },
  {
   "cell_type": "code",
   "execution_count": 35,
   "metadata": {},
   "outputs": [],
   "source": [
    "#dunder methods are built-in"
   ]
  },
  {
   "cell_type": "code",
   "execution_count": null,
   "metadata": {},
   "outputs": [],
   "source": []
  }
 ],
 "metadata": {
  "kernelspec": {
   "display_name": "Python 3",
   "language": "python",
   "name": "python3"
  },
  "language_info": {
   "codemirror_mode": {
    "name": "ipython",
    "version": 3
   },
   "file_extension": ".py",
   "mimetype": "text/x-python",
   "name": "python",
   "nbconvert_exporter": "python",
   "pygments_lexer": "ipython3",
   "version": "3.8.5"
  }
 },
 "nbformat": 4,
 "nbformat_minor": 4
}

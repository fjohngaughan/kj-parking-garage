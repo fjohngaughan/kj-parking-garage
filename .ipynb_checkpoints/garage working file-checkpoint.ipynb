{
 "cells": [
  {
   "cell_type": "code",
   "execution_count": 70,
   "metadata": {},
   "outputs": [],
   "source": [
    "# cart and item\n",
    "#items have name, price\n",
    "#cart has dict of items each dict holding item and count\n",
    "#cart has a total price\n",
    "#another class run\n",
    "from IPython.display import clear_output"
   ]
  },
  {
   "cell_type": "code",
   "execution_count": 107,
   "metadata": {},
   "outputs": [],
   "source": [
    "class Item:\n",
    "    def __init__(self, n, p):\n",
    "        self.name = n.title()\n",
    "        self.price = p\n",
    "    \n",
    "    #show our items info\n",
    "    def show(self):\n",
    "        return f'${self.price} | {self.name}'\n",
    "\n",
    "class Cart:\n",
    "    def __init__(self):\n",
    "        #dict structure: name as key, value as another dict -> inner dict keys item and quant\n",
    "        self.stuff = {}\n",
    "        self.total = 0.0\n",
    "    \n",
    "    #takes a cart and item as input, puts the item in the cart\n",
    "    def add(self, item):\n",
    "        if item.name in self.stuff:\n",
    "            self.stuff[item.name]['quant'] += 1\n",
    "            self.total += item.price\n",
    "        else:\n",
    "            self.stuff[item.name] = {'item': item, 'quant': 1}\n",
    "            self.total += item.price\n",
    "        return f'{item.name} has been added to your cart.'\n",
    "    \n",
    "    #show whats in our cart\n",
    "    def show(self):\n",
    "        if not self.stuff:\n",
    "            print('Your cart is empty.')\n",
    "        else:\n",
    "            n = 1\n",
    "            for v in self.stuff.values():\n",
    "                print(f\"{n}: {v['quant']} {v['item'].name} @ ${v['item'].price} ea.\")\n",
    "                n += 1\n",
    "            print('===')\n",
    "            print(f'Your total is: ${self.total}')\n",
    "    \n",
    "    #inputs are the name of an item and the cart\n",
    "    #outputs probs a string saying that we removed something or that it wasnt in our cart\n",
    "    #remove an item from our cart if it exists in our cart\n",
    "    def remove(self, name):\n",
    "        name = name.title()\n",
    "        if name in self.stuff:\n",
    "            if self.stuff[name]['quant'] > 1:\n",
    "                self.stuff[name]['quant'] -= 1\n",
    "                self.total -= self.stuff[name]['item'].price\n",
    "            else:\n",
    "                self.total -= self.stuff[name]['item'].price\n",
    "                del self.stuff[name]\n",
    "            return f'{name} was removed from your cart.'\n",
    "        else:\n",
    "            return f'{name} was not in your cart.'\n",
    "        \n",
    "class Main:\n",
    "    def run(self):\n",
    "        mycart = Cart()\n",
    "        while True:\n",
    "            mycart.show()\n",
    "            choice = input('Welcome to my shopping cart. What would you like to do? Options: add, remove, checkout.').lower()\n",
    "            if choice == 'checkout':\n",
    "                clear_output()\n",
    "                print('Here are all the items in your cart:')\n",
    "                mycart.show()\n",
    "                print('Thank you have a nice day!')\n",
    "                break\n",
    "                #show whats in cart and a nice checkout screen (this is like quitting)\n",
    "\n",
    "            elif choice == 'add':\n",
    "                i_name = input(\"What is the item's name? \").title()\n",
    "                i_price = float(input(\"What is the item's price? \"))\n",
    "                i = Item(i_name, i_price)\n",
    "                print(mycart.add(i))\n",
    "\n",
    "                #ask about what they're trying to add, then add it\n",
    "\n",
    "            elif choice == 'remove' and mycart.stuff:\n",
    "                ir = input(\"What item would you like to remove? \")\n",
    "                print(mycart.remove(ir))\n",
    "                #ask about what they're removing, then remove it\n",
    "            \n",
    "            else:\n",
    "                print('Bad input.')\n",
    "            clear_output()\n",
    "        "
   ]
  },
  {
   "cell_type": "code",
   "execution_count": 108,
   "metadata": {
    "scrolled": true
   },
   "outputs": [
    {
     "name": "stdout",
     "output_type": "stream",
     "text": [
      "Here are all the items in your cart:\n",
      "1: 2 Fennec Fox @ $3999.99 ea.\n",
      "2: 1 Flamingo @ $12.99 ea.\n",
      "===\n",
      "Your total is: $8012.969999999999\n",
      "Thank you have a nice day!\n"
     ]
    }
   ],
   "source": [
    "testing = Main()\n",
    "testing.run()"
   ]
  },
  {
   "cell_type": "code",
   "execution_count": 35,
   "metadata": {},
   "outputs": [],
   "source": [
    "#dunder methods are built-in"
   ]
  },
  {
   "cell_type": "code",
   "execution_count": null,
   "metadata": {},
   "outputs": [],
   "source": []
  }
 ],
 "metadata": {
  "kernelspec": {
   "display_name": "Python 3",
   "language": "python",
   "name": "python3"
  },
  "language_info": {
   "codemirror_mode": {
    "name": "ipython",
    "version": 3
   },
   "file_extension": ".py",
   "mimetype": "text/x-python",
   "name": "python",
   "nbconvert_exporter": "python",
   "pygments_lexer": "ipython3",
   "version": "3.8.5"
  }
 },
 "nbformat": 4,
 "nbformat_minor": 4
}

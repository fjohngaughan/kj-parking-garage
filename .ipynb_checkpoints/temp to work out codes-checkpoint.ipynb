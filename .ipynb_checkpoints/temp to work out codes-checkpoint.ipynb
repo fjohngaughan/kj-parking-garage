{
 "cells": [
  {
   "cell_type": "code",
   "execution_count": 18,
   "metadata": {},
   "outputs": [
    {
     "ename": "IndentationError",
     "evalue": "unexpected indent (<ipython-input-18-dbb1bae73c75>, line 33)",
     "output_type": "error",
     "traceback": [
      "\u001b[0;36m  File \u001b[0;32m\"<ipython-input-18-dbb1bae73c75>\"\u001b[0;36m, line \u001b[0;32m33\u001b[0m\n\u001b[0;31m    pay_ticket2 = input(\"Please pay to exit the garage. Would you like to submit payment now?y/n\").lower()\u001b[0m\n\u001b[0m    ^\u001b[0m\n\u001b[0;31mIndentationError\u001b[0m\u001b[0;31m:\u001b[0m unexpected indent\n"
     ]
    }
   ],
   "source": [
    "\n",
    "class KJGarage():\n",
    "    \n",
    "    def __init__(self, ticket, parking_space, current_ticket):\n",
    "        \n",
    "        self.ticket = t #list of tickets 1-10\n",
    "        self.parking_space = p_space #list of parking spaces 1-10\n",
    "        self.current_ticket = current_ticket#(true or false)\n",
    "    \n",
    "    \n",
    "    #take takeTicket should return .ticket by -1 and return .p_space by -1\n",
    "    def takeTicket():\n",
    "        ticket_count = int(self.ticket) -1\n",
    "        print(ticket_count)\n",
    "        parking_space_count = int(self.parking_space) -1\n",
    "        print(parking_space_count)\n",
    "   \n",
    "\n",
    "  #ticket_paid is variable being created to use later   \n",
    "    def payForParking():\n",
    "        pay_ticket1 = input(\"You owe $10. You can choose to add $1 as a gift to the city homeless shelter. Please enter the amount you are paying here\") \n",
    "        if pay_ticket1 != 0:\n",
    "            current_ticket={paid:true}\n",
    "            ticket_count = int(self.ticket) +1\n",
    "            print(\"Your ticket has been paid and you have 15 minutes to exit the garage.\")\n",
    "        else:\n",
    "            current_ticket = {paid:false}\n",
    "  \n",
    "\n",
    "    def leaveGarage():\n",
    "        if key: value in current_ticket is \"true\"\n",
    "        print(\"Thank You, have a nice day\")\n",
    "        if key: value in current_ticket is \"false\"\n",
    "            pay_ticket2 = input(\"Please pay to exit the garage. Would you like to submit payment now?y/n\").lower()\n",
    "        elif pay_ticket2 == \"yes\"\n",
    "            pay_ticket3 = input(\"You owe $10. You can choose to add $1 as a gift to the city homeless shelter. Please enter the amount you are paying here\") \n",
    "                if pay_ticket3 != 0:\n",
    "                    current_ticket={paid:true}\n",
    "                    ticket_count = int(self.ticket) +1\n",
    "                    print(\"Your ticket has been paid and you have 15 minutes to exit the garage.\")\n",
    "        else:\n",
    "            current_ticket = {paid:false}\n",
    "  \n",
    "                \n",
    "\n",
    "\n",
    "###########################abs"
   ]
  }
 ],
 "metadata": {
  "kernelspec": {
   "display_name": "Python 3",
   "language": "python",
   "name": "python3"
  },
  "language_info": {
   "codemirror_mode": {
    "name": "ipython",
    "version": 3
   },
   "file_extension": ".py",
   "mimetype": "text/x-python",
   "name": "python",
   "nbconvert_exporter": "python",
   "pygments_lexer": "ipython3",
   "version": "3.8.5"
  }
 },
 "nbformat": 4,
 "nbformat_minor": 4
}

{
 "cells": [
  {
   "cell_type": "code",
   "execution_count": 6,
   "metadata": {},
   "outputs": [],
   "source": [
    "\n",
    "class KJGarage():\n",
    "    \n",
    "    def __init__(self, parking_space, current_ticket):\n",
    "        \n",
    "        self.parking_space = parking_space #list of parking spaces 1-10\n",
    "        self.current_ticket = current_ticket#(true or false)\n",
    "    \n",
    "    ticket_count = 10\n",
    "    parking_space = 10\n",
    "\n",
    "    #take takeTicket should return .ticket by -1 and return .p_space by -1\n",
    "    def takeTicket(self):\n",
    "        self.pa\n",
    "        ticket_count = int(self.ticket) -1\n",
    "        print(ticket_count)\n",
    "        parking_space_count = int(self.parking_space) -1\n",
    "        print(parking_space_count)\n",
    "   \n",
    "\n",
    "  #ticket_paid is variable being created to use later   \n",
    "    def payForParking(self):\n",
    "        pay_ticket1 = input(\"You owe $10. You can choose to add $1 as a gift to the city homeless shelter. Please enter the amount you are paying here\") \n",
    "        if pay_ticket1 != 0:\n",
    "            current_ticket={\"paid\":\"true\"}\n",
    "            ticket_count = int(self.ticket) +1\n",
    "            print(\"Your ticket has been paid and you have 15 minutes to exit the garage.\")\n",
    "        else:\n",
    "            current_ticket = {paid:false}\n",
    "  \n",
    "\n",
    "    def leaveGarage(self):\n",
    "        if current_ticket[\"paid\"] == \"true\":\n",
    "            print(\"Thank You, have a nice day\")\n",
    "        elif current_ticket[\"paid\"] == \"false\":\n",
    "            pay_ticket2 = input(\"Please pay to exit the garage. Would you like to submit payment now?y/n\").lower()\n",
    "            if pay_ticket2 == \"yes\":\n",
    "                pay_ticket3 = input(\"You owe $10. You can choose to add $1 as a gift to the city homeless shelter. Please enter the amount you are paying here\") \n",
    "                if pay_ticket3 != 0:\n",
    "                    current_ticket={\"paid\":\"true\"}\n",
    "                    ticket_count = int(self.ticket) +1\n",
    "                    print(\"Your ticket has been paid and you have 15 minutes to exit the garage.\")\n",
    "                else:\n",
    "                    current_ticket = {\"paid\":\"false\"}\n",
    "      \n",
    "customer1=KJGarage(1,1)\n"
   ]
  },
  {
   "cell_type": "code",
   "execution_count": null,
   "metadata": {},
   "outputs": [],
   "source": []
  }
 ],
 "metadata": {
  "kernelspec": {
   "display_name": "Python 3",
   "language": "python",
   "name": "python3"
  },
  "language_info": {
   "codemirror_mode": {
    "name": "ipython",
    "version": 3
   },
   "file_extension": ".py",
   "mimetype": "text/x-python",
   "name": "python",
   "nbconvert_exporter": "python",
   "pygments_lexer": "ipython3",
   "version": "3.8.5"
  }
 },
 "nbformat": 4,
 "nbformat_minor": 4
}

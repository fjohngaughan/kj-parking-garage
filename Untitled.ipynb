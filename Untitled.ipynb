{
 "cells": [
  {
   "cell_type": "code",
   "execution_count": null,
   "metadata": {},
   "outputs": [],
   "source": [
    "Welcome to SuperLot! These are the spaces currently available: [1, 2, 3, 4, 5, 6, 7, 8, 9, 10]\n",
    "Would you like to get a 'ticket', 'pay', or 'leave'?\n",
    "ticket\n",
    "Your ticket is ticket #1! Please park safely!\n",
    "Welcome to SuperLot! These are the spaces currently available: [2, 3, 4, 5, 6, 7, 8, 9, 10]\n",
    "Would you like to get a 'ticket', 'pay', or 'leave'?\n",
    "pay\n",
    "What is your ticket number?\n",
    "1\n",
    "Ticket has been paid. Please exit carefully to the right!\n",
    "Welcome to SuperLot! These are the spaces currently available: [2, 3, 4, 5, 6, 7, 8, 9, 10]\n",
    "Would you like to get a 'ticket', 'pay', or 'leave'?\n",
    "leave\n",
    "What is your ticket number?\n",
    "1\n",
    "Thank you for parking at SuperLot!\n",
    "Welcome to SuperLot! These are the spaces currently available: [1, 2, 3, 4, 5, 6, 7, 8, 9, 10]\n",
    "Would you like to get a 'ticket', 'pay', or 'leave'?\n",
    "ticket\n",
    "Your ticket is ticket #2! Please park safely!\n",
    "Welcome to SuperLot! These are the spaces currently available: [1, 3, 4, 5, 6, 7, 8, 9, 10]\n",
    "Would you like to get a 'ticket', 'pay', or 'leave'?\n",
    "leave\n",
    "No tickets have been paid for. You must pay for your ticket before leaving.\n",
    "Welcome to SuperLot! These are the spaces currently available: [1, 3, 4, 5, 6, 7, 8, 9, 10]\n",
    "Would you like to get a 'ticket', 'pay', or 'leave'?\n",
    "pay\n",
    "What is your ticket number?\n",
    "2\n",
    "Ticket has been paid. Please exit carefully to the right!\n",
    "Welcome to SuperLot! These are the spaces currently available: [1, 3, 4, 5, 6, 7, 8, 9, 10]\n",
    "Would you like to get a 'ticket', 'pay', or 'leave'?\n",
    "leave\n",
    "What is your ticket number?\n",
    "1\n",
    "That ticket is not in use.\n",
    "The following tickets have been paid but have yet to leave the garage: ['2']\n",
    "Which ticket would you like to pay for?: \n",
    "2\n",
    "Thank you for parking at SuperLot!\n",
    "Welcome to SuperLot! These are the spaces currently available: [1, 2, 3, 4, 5, 6, 7, 8, 9, 10]\n",
    "Would you like to get a 'ticket', 'pay', or 'leave'?\n",
    "quit\n",
    "It seems that 'quit' is not a valid input. Please make sure you type 'ticket', 'pay', or 'leave'.\n",
    "Welcome to SuperLot! These are the spaces currently available: [1, 2, 3, 4, 5, 6, 7, 8, 9, 10]\n",
    "Would you like to get a 'ticket', 'pay', or 'leave'?"
   ]
  }
 ],
 "metadata": {
  "kernelspec": {
   "display_name": "Python 3",
   "language": "python",
   "name": "python3"
  },
  "language_info": {
   "codemirror_mode": {
    "name": "ipython",
    "version": 3
   },
   "file_extension": ".py",
   "mimetype": "text/x-python",
   "name": "python",
   "nbconvert_exporter": "python",
   "pygments_lexer": "ipython3",
   "version": "3.8.5"
  }
 },
 "nbformat": 4,
 "nbformat_minor": 4
}
